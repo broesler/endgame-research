{
 "cells": [
  {
   "cell_type": "markdown",
   "metadata": {
    "colab_type": "text",
    "id": "aFu-dEvP2M15"
   },
   "source": [
    "# Dev Setups -- Python and Data Science basic stack - Part 2\n",
    "\n",
    "This document is iterated on every session, and a lot of work goes into making sure it is clear and simple. Please do not share outside of Insight. Thanks!"
   ]
  },
  {
   "cell_type": "markdown",
   "metadata": {
    "colab_type": "text",
    "id": "WYBx00mv2M17"
   },
   "source": [
    "## Part 3: Test your installs\n",
    "\n",
    "First, make sure you started Jupyter in the Python environment you previously created. If you didn't, click Kernel > Change kernel then select the relevant environment in the menu above. If it isn't listed there, you will need to install kernel support with the command: \n",
    "\n",
    "```$ conda install nb_conda```\n",
    "\n",
    "After this you might need to deactivate your environment with `source deactivate` and activate it again for the kernel to show up in a notebook.\n",
    "\n",
    "Then go ahead and run the cell below by pressing Shift+Enter (or select the cell and click Cell > Run Cells in the menu). \n",
    "- If you get an error message, your packages didn't install correctly. \n",
    "- If you get no error (a number appears next to the box on the left, the computaton is finished), great job! Continue to part 4 and run the next cell."
   ]
  },
  {
   "cell_type": "code",
   "execution_count": 0,
   "metadata": {
    "colab": {
     "autoexec": {
      "startup": false,
      "wait_interval": 0
     }
    },
    "colab_type": "code",
    "id": "ipcqqlNt2M18"
   },
   "outputs": [],
   "source": [
    "import numpy # a package is for scientific computing\n",
    "import scipy # open-source software for mathematics, science, and engineering (higher level than numpy)\n",
    "import sklearn # machine learning package\n",
    "import matplotlib # plotting tools\n",
    "import seaborn # nicer plot defaults\n",
    "import pandas # for making easy-to-use data structures"
   ]
  },
  {
   "cell_type": "markdown",
   "metadata": {
    "colab_type": "text",
    "id": "gSog_3vz2M2A"
   },
   "source": [
    "If the above doesn't work, conda install or pip install the package to your virtual environment, e.g.,:\n",
    "\n",
    "```$ source activate my_projects_env```\n",
    "\n",
    "    then \n",
    "    \n",
    "```$ conda install numpy```\n",
    "    \n",
    "    or\n",
    "    \n",
    "```$ pip install numpy```"
   ]
  },
  {
   "cell_type": "markdown",
   "metadata": {
    "colab_type": "text",
    "id": "HYcSvYsT2M2A"
   },
   "source": [
    "## Part 4: Creating the Insight graphic\n",
    "\n",
    "Run the below cell to create the Insight logo!"
   ]
  },
  {
   "cell_type": "code",
   "execution_count": 2,
   "metadata": {
    "colab": {
     "autoexec": {
      "startup": false,
      "wait_interval": 0
     },
     "base_uri": "https://localhost:8080/",
     "height": 182
    },
    "colab_type": "code",
    "executionInfo": {
     "elapsed": 391,
     "status": "ok",
     "timestamp": 1526069803691,
     "user": {
      "displayName": "Matt Rubashkin",
      "photoUrl": "https://lh3.googleusercontent.com/a/default-user=s128",
      "userId": "107378657472197233336"
     },
     "user_tz": 420
    },
    "id": "pBA-zIwj2M2B",
    "outputId": "cc49b6b4-c62e-4392-ff4c-ee2c15d5a66a"
   },
   "outputs": [
    {
     "data": {
      "image/png": "[encoded data removed]",
      "text/plain": [
       "<matplotlib.figure.Figure at 0x7f0fd9121eb8>"
      ]
     },
     "metadata": {
      "tags": []
     },
     "output_type": "display_data"
    }
   ],
   "source": [
    "%matplotlib inline \n",
    "import matplotlib.pyplot as plt\n",
    "import matplotlib.patches as mpatches\n",
    "\n",
    "dpi = 80\n",
    "fig = plt.figure(figsize=(4, 1.6), dpi=dpi)\n",
    "\n",
    "def add_background():\n",
    "    ax = fig.add_axes([0., 0., 1., 1.], facecolor='black')\n",
    "    rect = mpatches.Rectangle([0, .86], 0.05, 0.14, ec=\"none\", facecolor='black')\n",
    "    ax.add_patch(rect)\n",
    "    rect = mpatches.Rectangle([0.05, .86], 0.05, 0.14, ec=\"none\", facecolor='gray')\n",
    "    ax.add_patch(rect)\n",
    "    rect = mpatches.Rectangle([0, 0.72], 0.05, 0.14, ec=\"none\", facecolor='gray')\n",
    "    ax.add_patch(rect)\n",
    "    rect = mpatches.Rectangle([.95, 0], 0.05, 0.14, ec=\"none\", facecolor='black')\n",
    "    ax.add_patch(rect)\n",
    "    rect = mpatches.Rectangle([.90, 0], 0.05, 0.14, ec=\"none\", facecolor='gray')\n",
    "    ax.add_patch(rect)\n",
    "    rect = mpatches.Rectangle([.95, .14], 0.05, 0.14, ec=\"none\", facecolor='gray')\n",
    "    ax.add_patch(rect)\n",
    "    ax.set_axis_off()\n",
    "    return ax\n",
    "\n",
    "def add_insight_text(ax):\n",
    "    ax.text(0.52, 0.5, 'INSIGHT', color='black', fontsize=45,\n",
    "               ha='center', va='center', alpha=1.0, transform=ax.transAxes)\n",
    "\n",
    "\n",
    "if __name__ == '__main__':\n",
    "    main_axes = add_background()\n",
    "    add_insight_text(main_axes)\n",
    "    plt.show()"
   ]
  },
  {
   "cell_type": "markdown",
   "metadata": {
    "colab_type": "text",
    "id": "eqDU2Yqc2M2G"
   },
   "source": [
    "## Part 5: Make coding pretty\n",
    "\n",
    "[Jupyter](http://jupyter.org/) (formerly IPython) notebooks are great for documentation, as you will see throughout the session. Many alumni and data scientists use them to keep their work clean and well-commented. Other popular editors are [Sublime Text](<http://www.google.com/url?q=http%3A%2F%2Fwww.sublimetext.com%2F&sa=D&sntz=1&usg=AFrqEzeFkIlRQBBF0Ik9XAy6IWS4atSk-A>)  and [atom](https://atom.io/).\n",
    "\n",
    "Also, using version control during your projects is *** essential *** to making sure you don't lose your work. We will have an introduction to git/[github](https://github.com/) during the session, but we encourage you to explore it on your own as well (share what you know via Slack!).  You may find [trygit](https://try.github.io/levels/1/challenges/1) useful as a tutorial.\n",
    "<br><br>"
   ]
  },
  {
   "cell_type": "markdown",
   "metadata": {
    "colab_type": "text",
    "id": "sPqsnIW52M2H"
   },
   "source": [
    "## Part 6: Logging off - deactivate your environment\n",
    "\n",
    "As good practice, leave your environment when you are done:\n",
    "\n",
    "```$ source deactivate```\n",
    "    \n",
    "If you are using virtualenv, type:\n",
    "\n",
    "```$ deactivate```\n",
    "    "
   ]
  },
  {
   "cell_type": "markdown",
   "metadata": {
    "colab_type": "text",
    "id": "2S196mNt2M2H"
   },
   "source": [
    "Next, return to the directory tree in Jupyter and open the dev_setups_postgres-part3 notebook."
   ]
  },
  {
   "cell_type": "code",
   "execution_count": 0,
   "metadata": {
    "colab": {
     "autoexec": {
      "startup": false,
      "wait_interval": 0
     }
    },
    "colab_type": "code",
    "id": "sdjXJw8o2M2I"
   },
   "outputs": [],
   "source": []
  }
 ],
 "metadata": {
  "colab": {
   "default_view": {},
   "name": "dev_setups_jupyter.ipynb",
   "provenance": [],
   "version": "0.3.2",
   "views": {}
  },
  "kernelspec": {
   "display_name": "Python 3",
   "language": "python",
   "name": "python3"
  },
  "language_info": {
   "codemirror_mode": {
    "name": "ipython",
    "version": 3
   },
   "file_extension": ".py",
   "mimetype": "text/x-python",
   "name": "python",
   "nbconvert_exporter": "python",
   "pygments_lexer": "ipython3",
   "version": "3.6.5"
  }
 },
 "nbformat": 4,
 "nbformat_minor": 1
}
